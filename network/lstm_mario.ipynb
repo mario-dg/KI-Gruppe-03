{
 "cells": [
  {
   "cell_type": "code",
   "execution_count": 69,
   "outputs": [],
   "source": [
    "import pandas as pd"
   ],
   "metadata": {
    "collapsed": false,
    "ExecuteTime": {
     "end_time": "2023-05-25T11:09:13.703449Z",
     "start_time": "2023-05-25T11:09:13.697731Z"
    }
   }
  },
  {
   "cell_type": "code",
   "execution_count": 88,
   "outputs": [],
   "source": [
    "df = pd.read_csv('../data/clean/df_weekly_incidence.csv', parse_dates=True)"
   ],
   "metadata": {
    "collapsed": false,
    "ExecuteTime": {
     "end_time": "2023-05-25T11:10:21.730335Z",
     "start_time": "2023-05-25T11:10:21.627745Z"
    }
   }
  },
  {
   "cell_type": "code",
   "execution_count": 117,
   "outputs": [
    {
     "data": {
      "text/plain": "      administrative_area_level_3  year  week      confirmed       deaths  \\\n58915          StadtRegion Aachen  2022    48  239130.857143  1003.571429   \n58916          StadtRegion Aachen  2022    49  241006.000000  1008.428571   \n58917          StadtRegion Aachen  2022    50  243497.000000  1014.571429   \n58918          StadtRegion Aachen  2022    51  246125.142857  1022.000000   \n58919          StadtRegion Aachen  2022    52  196870.250000   942.625000   \n\n           recovered      vaccines  people_vaccinated  \\\n58915  238127.285714  1.418742e+06      466328.285714   \n58916  239997.571429  1.420924e+06      466338.857143   \n58917  242482.428571  1.422997e+06      466348.000000   \n58918  245103.142857  1.424413e+06      466359.857143   \n58919  195927.250000  1.357966e+06      463290.250000   \n\n       people_fully_vaccinated  school_closing  ...  contact_tracing  \\\n58915            452488.142857            0.00  ...              2.0   \n58916            452512.714286            0.00  ...              2.0   \n58917            452549.714286            0.00  ...              2.0   \n58918            452564.000000            0.00  ...              2.0   \n58919            445556.000000            0.25  ...              2.0   \n\n       facial_coverings  vaccination_policy  elderly_people_protection  \\\n58915               2.0                 5.0                       3.00   \n58916               2.0                 5.0                       3.00   \n58917               2.0                 5.0                       3.00   \n58918               2.0                 5.0                       3.00   \n58919               2.0                 5.0                       2.75   \n\n        latitude  longitude  population       cfr  cases_per_population  \\\n58915  50.722553   6.217456    555465.0  0.004197              0.430506   \n58916  50.722553   6.217456    555465.0  0.004184              0.433882   \n58917  50.722553   6.217456    555465.0  0.004167              0.438366   \n58918  50.722553   6.217456    555465.0  0.004152              0.443097   \n58919  50.722553   6.217456    555465.0  0.006964              0.354424   \n\n        incidence  \n58915  353.217574  \n58916  337.580740  \n58917  448.453098  \n58918  473.142837  \n58919  310.370590  \n\n[5 rows x 29 columns]",
      "text/html": "<div>\n<style scoped>\n    .dataframe tbody tr th:only-of-type {\n        vertical-align: middle;\n    }\n\n    .dataframe tbody tr th {\n        vertical-align: top;\n    }\n\n    .dataframe thead th {\n        text-align: right;\n    }\n</style>\n<table border=\"1\" class=\"dataframe\">\n  <thead>\n    <tr style=\"text-align: right;\">\n      <th></th>\n      <th>administrative_area_level_3</th>\n      <th>year</th>\n      <th>week</th>\n      <th>confirmed</th>\n      <th>deaths</th>\n      <th>recovered</th>\n      <th>vaccines</th>\n      <th>people_vaccinated</th>\n      <th>people_fully_vaccinated</th>\n      <th>school_closing</th>\n      <th>...</th>\n      <th>contact_tracing</th>\n      <th>facial_coverings</th>\n      <th>vaccination_policy</th>\n      <th>elderly_people_protection</th>\n      <th>latitude</th>\n      <th>longitude</th>\n      <th>population</th>\n      <th>cfr</th>\n      <th>cases_per_population</th>\n      <th>incidence</th>\n    </tr>\n  </thead>\n  <tbody>\n    <tr>\n      <th>58915</th>\n      <td>StadtRegion Aachen</td>\n      <td>2022</td>\n      <td>48</td>\n      <td>239130.857143</td>\n      <td>1003.571429</td>\n      <td>238127.285714</td>\n      <td>1.418742e+06</td>\n      <td>466328.285714</td>\n      <td>452488.142857</td>\n      <td>0.00</td>\n      <td>...</td>\n      <td>2.0</td>\n      <td>2.0</td>\n      <td>5.0</td>\n      <td>3.00</td>\n      <td>50.722553</td>\n      <td>6.217456</td>\n      <td>555465.0</td>\n      <td>0.004197</td>\n      <td>0.430506</td>\n      <td>353.217574</td>\n    </tr>\n    <tr>\n      <th>58916</th>\n      <td>StadtRegion Aachen</td>\n      <td>2022</td>\n      <td>49</td>\n      <td>241006.000000</td>\n      <td>1008.428571</td>\n      <td>239997.571429</td>\n      <td>1.420924e+06</td>\n      <td>466338.857143</td>\n      <td>452512.714286</td>\n      <td>0.00</td>\n      <td>...</td>\n      <td>2.0</td>\n      <td>2.0</td>\n      <td>5.0</td>\n      <td>3.00</td>\n      <td>50.722553</td>\n      <td>6.217456</td>\n      <td>555465.0</td>\n      <td>0.004184</td>\n      <td>0.433882</td>\n      <td>337.580740</td>\n    </tr>\n    <tr>\n      <th>58917</th>\n      <td>StadtRegion Aachen</td>\n      <td>2022</td>\n      <td>50</td>\n      <td>243497.000000</td>\n      <td>1014.571429</td>\n      <td>242482.428571</td>\n      <td>1.422997e+06</td>\n      <td>466348.000000</td>\n      <td>452549.714286</td>\n      <td>0.00</td>\n      <td>...</td>\n      <td>2.0</td>\n      <td>2.0</td>\n      <td>5.0</td>\n      <td>3.00</td>\n      <td>50.722553</td>\n      <td>6.217456</td>\n      <td>555465.0</td>\n      <td>0.004167</td>\n      <td>0.438366</td>\n      <td>448.453098</td>\n    </tr>\n    <tr>\n      <th>58918</th>\n      <td>StadtRegion Aachen</td>\n      <td>2022</td>\n      <td>51</td>\n      <td>246125.142857</td>\n      <td>1022.000000</td>\n      <td>245103.142857</td>\n      <td>1.424413e+06</td>\n      <td>466359.857143</td>\n      <td>452564.000000</td>\n      <td>0.00</td>\n      <td>...</td>\n      <td>2.0</td>\n      <td>2.0</td>\n      <td>5.0</td>\n      <td>3.00</td>\n      <td>50.722553</td>\n      <td>6.217456</td>\n      <td>555465.0</td>\n      <td>0.004152</td>\n      <td>0.443097</td>\n      <td>473.142837</td>\n    </tr>\n    <tr>\n      <th>58919</th>\n      <td>StadtRegion Aachen</td>\n      <td>2022</td>\n      <td>52</td>\n      <td>196870.250000</td>\n      <td>942.625000</td>\n      <td>195927.250000</td>\n      <td>1.357966e+06</td>\n      <td>463290.250000</td>\n      <td>445556.000000</td>\n      <td>0.25</td>\n      <td>...</td>\n      <td>2.0</td>\n      <td>2.0</td>\n      <td>5.0</td>\n      <td>2.75</td>\n      <td>50.722553</td>\n      <td>6.217456</td>\n      <td>555465.0</td>\n      <td>0.006964</td>\n      <td>0.354424</td>\n      <td>310.370590</td>\n    </tr>\n  </tbody>\n</table>\n<p>5 rows × 29 columns</p>\n</div>"
     },
     "execution_count": 117,
     "metadata": {},
     "output_type": "execute_result"
    }
   ],
   "source": [
    "df.tail()"
   ],
   "metadata": {
    "collapsed": false,
    "ExecuteTime": {
     "end_time": "2023-05-25T11:35:42.201440Z",
     "start_time": "2023-05-25T11:35:42.197319Z"
    }
   }
  },
  {
   "cell_type": "code",
   "execution_count": 118,
   "outputs": [],
   "source": [
    "X = df[[\"confirmed\", \"deaths\", \"recovered\", \"vaccines\"]].head(25000)\n",
    "y = df[[\"incidence\"]].tail(25000)"
   ],
   "metadata": {
    "collapsed": false,
    "ExecuteTime": {
     "end_time": "2023-05-25T11:35:50.143315Z",
     "start_time": "2023-05-25T11:35:50.138224Z"
    }
   }
  },
  {
   "cell_type": "code",
   "execution_count": 119,
   "outputs": [],
   "source": [
    "from sklearn.preprocessing import StandardScaler, MinMaxScaler\n",
    "mm = MinMaxScaler()\n",
    "ss = StandardScaler()\n",
    "\n",
    "\n",
    "X_ss = ss.fit_transform(X)\n",
    "y_mm = mm.fit_transform(y)"
   ],
   "metadata": {
    "collapsed": false,
    "ExecuteTime": {
     "end_time": "2023-05-25T11:35:50.273396Z",
     "start_time": "2023-05-25T11:35:50.269920Z"
    }
   }
  },
  {
   "cell_type": "code",
   "execution_count": 120,
   "outputs": [],
   "source": [
    "train_size = int(len(X_ss) * 0.8)\n",
    "valid_size = len(X_ss) - train_size"
   ],
   "metadata": {
    "collapsed": false,
    "ExecuteTime": {
     "end_time": "2023-05-25T11:35:50.441902Z",
     "start_time": "2023-05-25T11:35:50.438421Z"
    }
   }
  },
  {
   "cell_type": "code",
   "execution_count": 121,
   "outputs": [],
   "source": [
    "X_train = X_ss[:train_size, :]\n",
    "X_test = X_ss[train_size:, :]\n",
    "\n",
    "y_train = y_mm[:train_size, :]\n",
    "y_test = y_mm[train_size:, :]"
   ],
   "metadata": {
    "collapsed": false,
    "ExecuteTime": {
     "end_time": "2023-05-25T11:35:50.600424Z",
     "start_time": "2023-05-25T11:35:50.597897Z"
    }
   }
  },
  {
   "cell_type": "code",
   "execution_count": 122,
   "outputs": [
    {
     "name": "stdout",
     "output_type": "stream",
     "text": [
      "Training Shape (20000, 4) (20000, 1)\n",
      "Testing Shape (5000, 4) (5000, 1)\n"
     ]
    }
   ],
   "source": [
    "print(\"Training Shape\", X_train.shape, y_train.shape)\n",
    "print(\"Testing Shape\", X_test.shape, y_test.shape)"
   ],
   "metadata": {
    "collapsed": false,
    "ExecuteTime": {
     "end_time": "2023-05-25T11:35:50.748606Z",
     "start_time": "2023-05-25T11:35:50.746820Z"
    }
   }
  },
  {
   "cell_type": "code",
   "execution_count": 123,
   "outputs": [],
   "source": [
    "import torch #pytorch\n",
    "import torch.nn as nn\n",
    "import matplotlib.pyplot as plt\n",
    "from torch.autograd import Variable"
   ],
   "metadata": {
    "collapsed": false,
    "ExecuteTime": {
     "end_time": "2023-05-25T11:35:50.906767Z",
     "start_time": "2023-05-25T11:35:50.904340Z"
    }
   }
  },
  {
   "cell_type": "code",
   "execution_count": 124,
   "outputs": [],
   "source": [
    "X_train_tensors = Variable(torch.Tensor(X_train))\n",
    "X_test_tensors = Variable(torch.Tensor(X_test))\n",
    "\n",
    "y_train_tensors = Variable(torch.Tensor(y_train))\n",
    "y_test_tensors = Variable(torch.Tensor(y_test))"
   ],
   "metadata": {
    "collapsed": false,
    "ExecuteTime": {
     "end_time": "2023-05-25T11:35:51.046906Z",
     "start_time": "2023-05-25T11:35:51.044354Z"
    }
   }
  },
  {
   "cell_type": "code",
   "execution_count": 125,
   "outputs": [],
   "source": [
    "#reshaping to rows, timestamps, features\n",
    "X_train_tensors_final = torch.reshape(X_train_tensors, (X_train_tensors.shape[0], 1, X_train_tensors.shape[1]))\n",
    "X_test_tensors_final = torch.reshape(X_test_tensors, (X_test_tensors.shape[0], 1, X_test_tensors.shape[1]))"
   ],
   "metadata": {
    "collapsed": false,
    "ExecuteTime": {
     "end_time": "2023-05-25T11:35:51.155653Z",
     "start_time": "2023-05-25T11:35:51.151270Z"
    }
   }
  },
  {
   "cell_type": "code",
   "execution_count": 126,
   "outputs": [
    {
     "name": "stdout",
     "output_type": "stream",
     "text": [
      "Training Shape torch.Size([20000, 1, 4]) torch.Size([20000, 1])\n",
      "Testing Shape torch.Size([5000, 1, 4]) torch.Size([5000, 1])\n"
     ]
    }
   ],
   "source": [
    "print(\"Training Shape\", X_train_tensors_final.shape, y_train_tensors.shape)\n",
    "print(\"Testing Shape\", X_test_tensors_final.shape, y_test_tensors.shape)"
   ],
   "metadata": {
    "collapsed": false,
    "ExecuteTime": {
     "end_time": "2023-05-25T11:35:51.509045Z",
     "start_time": "2023-05-25T11:35:51.504305Z"
    }
   }
  },
  {
   "cell_type": "code",
   "execution_count": 127,
   "outputs": [],
   "source": [
    "class LSTM1(nn.Module):\n",
    "    def __init__(self, num_classes, input_size, hidden_size, num_layers, seq_length):\n",
    "        super(LSTM1, self).__init__()\n",
    "        self.num_classes = num_classes #number of classes\n",
    "        self.num_layers = num_layers #number of layers\n",
    "        self.input_size = input_size #input size\n",
    "        self.hidden_size = hidden_size #hidden state\n",
    "        self.seq_length = seq_length #sequence length\n",
    "\n",
    "        self.lstm = nn.LSTM(input_size=input_size, hidden_size=hidden_size,\n",
    "                            num_layers=num_layers, batch_first=True) #lstm\n",
    "        self.fc_1 =  nn.Linear(hidden_size, 128) #fully connected 1\n",
    "        self.fc = nn.Linear(128, num_classes) #fully connected last layer\n",
    "\n",
    "        self.relu = nn.ReLU()\n",
    "\n",
    "    def forward(self,x):\n",
    "        h_0 = Variable(torch.zeros(self.num_layers, x.size(0), self.hidden_size)) #hidden state\n",
    "        c_0 = Variable(torch.zeros(self.num_layers, x.size(0), self.hidden_size)) #internal state\n",
    "        # Propagate input through LSTM\n",
    "        output, (hn, cn) = self.lstm(x, (h_0, c_0)) #lstm with input, hidden, and internal state\n",
    "        hn = hn.view(-1, self.hidden_size) #reshaping the data for Dense layer next\n",
    "        out = self.relu(hn)\n",
    "        out = self.fc_1(out) #first Dense\n",
    "        out = self.relu(out) #relu\n",
    "        out = self.fc(out) #Final Output\n",
    "        return out"
   ],
   "metadata": {
    "collapsed": false,
    "ExecuteTime": {
     "end_time": "2023-05-25T11:35:51.706496Z",
     "start_time": "2023-05-25T11:35:51.700554Z"
    }
   }
  },
  {
   "cell_type": "code",
   "execution_count": 128,
   "outputs": [],
   "source": [
    "num_epochs = 1000 #1000 epochs\n",
    "learning_rate = 0.001 #0.001 lr\n",
    "\n",
    "input_size = 4 #number of features\n",
    "hidden_size = 256 #number of features in hidden state\n",
    "num_layers = 1 #number of stacked lstm layers\n",
    "\n",
    "num_classes = 1 #number of output classes"
   ],
   "metadata": {
    "collapsed": false,
    "ExecuteTime": {
     "end_time": "2023-05-25T11:35:52.159691Z",
     "start_time": "2023-05-25T11:35:52.157258Z"
    }
   }
  },
  {
   "cell_type": "code",
   "execution_count": 129,
   "outputs": [],
   "source": [
    "lstm1 = LSTM1(num_classes, input_size, hidden_size, num_layers, X_train_tensors_final.shape[1]) #our lstm class"
   ],
   "metadata": {
    "collapsed": false,
    "ExecuteTime": {
     "end_time": "2023-05-25T11:35:52.320372Z",
     "start_time": "2023-05-25T11:35:52.317676Z"
    }
   }
  },
  {
   "cell_type": "code",
   "execution_count": 130,
   "outputs": [],
   "source": [
    "criterion = torch.nn.MSELoss()    # mean-squared error for regression\n",
    "optimizer = torch.optim.Adam(lstm1.parameters(), lr=learning_rate)"
   ],
   "metadata": {
    "collapsed": false,
    "ExecuteTime": {
     "end_time": "2023-05-25T11:35:52.697924Z",
     "start_time": "2023-05-25T11:35:52.695005Z"
    }
   }
  },
  {
   "cell_type": "code",
   "execution_count": 131,
   "outputs": [
    {
     "name": "stdout",
     "output_type": "stream",
     "text": [
      "Epoch: 0, loss: 0.03780\n",
      "Epoch: 100, loss: 0.01341\n",
      "Epoch: 200, loss: 0.01326\n",
      "Epoch: 300, loss: 0.01306\n",
      "Epoch: 400, loss: 0.01281\n",
      "Epoch: 500, loss: 0.01267\n",
      "Epoch: 600, loss: 0.01256\n",
      "Epoch: 700, loss: 0.01244\n",
      "Epoch: 800, loss: 0.01232\n",
      "Epoch: 900, loss: 0.01220\n"
     ]
    }
   ],
   "source": [
    "for epoch in range(num_epochs):\n",
    "    outputs = lstm1.forward(X_train_tensors_final) #forward pass\n",
    "    optimizer.zero_grad() #caluclate the gradient, manually setting to 0\n",
    "\n",
    "    # obtain the loss function\n",
    "    loss = criterion(outputs, y_train_tensors)\n",
    "\n",
    "    loss.backward() #calculates the loss of the loss function\n",
    "\n",
    "    optimizer.step() #improve from loss, i.e backprop\n",
    "    if epoch % 100 == 0:\n",
    "        print(\"Epoch: %d, loss: %1.5f\" % (epoch, loss.item()))"
   ],
   "metadata": {
    "collapsed": false,
    "ExecuteTime": {
     "end_time": "2023-05-25T11:37:57.412339Z",
     "start_time": "2023-05-25T11:35:53.123198Z"
    }
   }
  },
  {
   "cell_type": "code",
   "execution_count": 132,
   "outputs": [],
   "source": [
    "df_X_ss = ss.transform(df[['confirmed', 'deaths', 'recovered', 'vaccines']]) #old transformers\n",
    "df_y_mm = mm.transform(df[['incidence']]) #old transformers\n",
    "\n",
    "df_X_ss = Variable(torch.Tensor(df_X_ss)) #converting to Tensors\n",
    "df_y_mm = Variable(torch.Tensor(df_y_mm))\n",
    "#reshaping the dataset\n",
    "df_X_ss = torch.reshape(df_X_ss, (df_X_ss.shape[0], 1, df_X_ss.shape[1]))"
   ],
   "metadata": {
    "collapsed": false,
    "ExecuteTime": {
     "end_time": "2023-05-25T11:37:57.423417Z",
     "start_time": "2023-05-25T11:37:57.413848Z"
    }
   }
  },
  {
   "cell_type": "code",
   "execution_count": 133,
   "outputs": [
    {
     "data": {
      "text/plain": "<Figure size 1000x600 with 1 Axes>",
      "image/png": "[encoded data removed]"
     },
     "metadata": {},
     "output_type": "display_data"
    }
   ],
   "source": [
    "train_predict = lstm1(df_X_ss)#forward pass\n",
    "data_predict = train_predict.data.numpy() #numpy conversion\n",
    "dataY_plot = df_y_mm.data.numpy()\n",
    "\n",
    "data_predict = mm.inverse_transform(data_predict) #reverse transformation\n",
    "dataY_plot = mm.inverse_transform(dataY_plot)\n",
    "plt.figure(figsize=(10,6)) #plotting\n",
    "plt.axvline(x=200, c='r', linestyle='--') #size of the training set\n",
    "\n",
    "plt.plot(dataY_plot, label='Actual Data') #actual plot\n",
    "plt.plot(data_predict, label='Predicted Data') #predicted plot\n",
    "plt.title('Time-Series Prediction')\n",
    "plt.legend()\n",
    "plt.show()"
   ],
   "metadata": {
    "collapsed": false,
    "ExecuteTime": {
     "end_time": "2023-05-25T11:37:57.880401Z",
     "start_time": "2023-05-25T11:37:57.419779Z"
    }
   }
  },
  {
   "cell_type": "code",
   "execution_count": null,
   "outputs": [],
   "source": [],
   "metadata": {
    "collapsed": false
   }
  }
 ],
 "metadata": {
  "kernelspec": {
   "display_name": "Python 3",
   "language": "python",
   "name": "python3"
  },
  "language_info": {
   "codemirror_mode": {
    "name": "ipython",
    "version": 2
   },
   "file_extension": ".py",
   "mimetype": "text/x-python",
   "name": "python",
   "nbconvert_exporter": "python",
   "pygments_lexer": "ipython2",
   "version": "2.7.6"
  }
 },
 "nbformat": 4,
 "nbformat_minor": 0
}
