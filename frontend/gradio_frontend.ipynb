{
 "cells": [
  {
   "attachments": {},
   "cell_type": "markdown",
   "metadata": {},
   "source": [
    "# Testing Gradio"
   ]
  },
  {
   "cell_type": "code",
   "execution_count": null,
   "metadata": {},
   "outputs": [],
   "source": [
    "# Installing Gradio\n",
    "%pip install gradio\n",
    "%pip install fsspec --upgrade"
   ]
  },
  {
   "cell_type": "code",
   "execution_count": 20,
   "metadata": {},
   "outputs": [
    {
     "name": "stdout",
     "output_type": "stream",
     "text": [
      "The gradio extension is already loaded. To reload it, use:\n",
      "  %reload_ext gradio\n"
     ]
    }
   ],
   "source": [
    "%load_ext gradio"
   ]
  },
  {
   "cell_type": "code",
   "execution_count": 1,
   "metadata": {},
   "outputs": [
    {
     "name": "stderr",
     "output_type": "stream",
     "text": [
      "c:\\Users\\Herberto\\AppData\\Local\\Programs\\Python\\Python39\\lib\\site-packages\\tqdm\\auto.py:21: TqdmWarning: IProgress not found. Please update jupyter and ipywidgets. See https://ipywidgets.readthedocs.io/en/stable/user_install.html\n",
      "  from .autonotebook import tqdm as notebook_tqdm\n"
     ]
    }
   ],
   "source": [
    "%reload_ext gradio\n",
    "import gradio as gr\n",
    "\n",
    "\n",
    "\n",
    "class LSTMModel:\n",
    "    def __init__(self):\n",
    "        pass\n",
    "\n",
    "    def predict(self, landkreis, einwohnerzahl, bisherige_inz):\n",
    "        prediction = [1, 2, 3, 4, 5]  # Dummy-Vorhersage als Liste\n",
    "        return prediction\n",
    "    \n",
    "    def current_measures(self):\n",
    "        aktuelle_Maßnahmen = [\"face_mask\", \"school_closing\", \"clubs_closing\"]\n",
    "        return aktuelle_Maßnahmen\n",
    "\n",
    "# Funktionen\n",
    "def make_prediction(landkreis, einwohnerzahl, bisherige_inz):\n",
    "    model = LSTMModel()\n",
    "    prediction = model.predict(landkreis, einwohnerzahl, bisherige_inz)\n",
    "    return prediction\n",
    "\n",
    "def get_current_measures():\n",
    "    model = LSTMModel()\n",
    "    curr_measures = model.current_measures()\n",
    "    return curr_measures"
   ]
  },
  {
   "cell_type": "code",
   "execution_count": 2,
   "metadata": {},
   "outputs": [
    {
     "name": "stdout",
     "output_type": "stream",
     "text": [
      "Running on local URL:  http://127.0.0.1:7877\n",
      "\n",
      "To create a public link, set `share=True` in `launch()`.\n"
     ]
    },
    {
     "data": {
      "text/html": [
       "<div><iframe src=\"http://127.0.0.1:7877/\" width=\"100%\" height=\"500\" allow=\"autoplay; camera; microphone; clipboard-read; clipboard-write;\" frameborder=\"0\" allowfullscreen></iframe></div>"
      ],
      "text/plain": [
       "<IPython.core.display.HTML object>"
      ]
     },
     "metadata": {},
     "output_type": "display_data"
    },
    {
     "data": {
      "text/plain": []
     },
     "execution_count": 2,
     "metadata": {},
     "output_type": "execute_result"
    }
   ],
   "source": [
    "with gr.Blocks() as demo:\n",
    "    gr.Markdown(\n",
    "        \"\"\"\n",
    "        # Vorhersage für ihren Landkreis\n",
    "        ## Es ist ein Hilfsmittel zur Bekämpfung weiterer Epedemien/Pademien und Erkrakungswellen, die in Zukunft verhäuft auftreten werden. \n",
    "        Geben Sie den Namen des Landkreises ein, um die Vorhersage zu erhalten.\n",
    "        \"\"\"\n",
    "    )\n",
    "    # Inputs\n",
    "    in_landkreis_tb = gr.Textbox(label=\"Landkreis\", placeholder=\"Geben Sie hier ein Landkreis ein...\") # ToDo: Validierung, ob der Landkreis existiert\n",
    "    in_einwohnerzahl_tb = gr.Textbox(label=\"Einwohnerzahl\", placeholder=\"Geben Sie hier eine Einwohnerzahl als Ganzzahl ein...\")\n",
    "    in_inzidenz_bisher_tb = gr.Slider(2019,2022, label=\"Bisherige Inzidenz zwischen 2019 und 2022...\") # ToDo: Detailierter? doch eher als textbox? aktuell als float -> hier müsste ein datum sein\n",
    "\n",
    "\n",
    "    # Outputs\n",
    "    out_akt_maßnahmen = gr.Textbox(label=\"Aktuelle Maßnahmen\")\n",
    "    out_prognose_tb = gr.Textbox(label=\"Vorschläge\")\n",
    "\n",
    "\n",
    "    submit_btn = gr.Button(\"Start\")\n",
    "    # ToDo: Funktion mit mehreren Inputs/Outputs oder mehrere Funktionen, die das zurückgeben -> Klären\n",
    "    submit_btn.click(fn=make_prediction, inputs=[in_landkreis_tb, in_einwohnerzahl_tb, in_inzidenz_bisher_tb], outputs=out_prognose_tb)\n",
    "    submit_btn.click(fn=get_current_measures, inputs=None, outputs=out_akt_maßnahmen)\n",
    "    gr.Markdown(\n",
    "        \"\"\"\n",
    "        ### Link zum Repo: https://github.com/mario-dg/KI-Gruppe-03\n",
    "        \"\"\"\n",
    "    )\n",
    "\n",
    "demo.launch()   "
   ]
  }
 ],
 "metadata": {
  "kernelspec": {
   "display_name": "base",
   "language": "python",
   "name": "python3"
  },
  "language_info": {
   "codemirror_mode": {
    "name": "ipython",
    "version": 3
   },
   "file_extension": ".py",
   "mimetype": "text/x-python",
   "name": "python",
   "nbconvert_exporter": "python",
   "pygments_lexer": "ipython3",
   "version": "3.9.10"
  },
  "orig_nbformat": 4
 },
 "nbformat": 4,
 "nbformat_minor": 2
}
