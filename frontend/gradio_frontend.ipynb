{
 "cells": [
  {
   "attachments": {},
   "cell_type": "markdown",
   "metadata": {},
   "source": [
    "# Testing Gradio"
   ]
  },
  {
   "cell_type": "code",
   "execution_count": null,
   "metadata": {},
   "outputs": [],
   "source": [
    "# Installing Gradio\n",
    "%pip install gradio\n",
    "%pip install fsspec --upgrade"
   ]
  },
  {
   "cell_type": "code",
   "execution_count": 20,
   "metadata": {},
   "outputs": [
    {
     "name": "stdout",
     "output_type": "stream",
     "text": [
      "The gradio extension is already loaded. To reload it, use:\n",
      "  %reload_ext gradio\n"
     ]
    }
   ],
   "source": [
    "%load_ext gradio"
   ]
  },
  {
   "cell_type": "code",
   "execution_count": 41,
   "metadata": {},
   "outputs": [
    {
     "name": "stdout",
     "output_type": "stream",
     "text": [
      "Running on local URL:  http://127.0.0.1:7885\n",
      "\n",
      "To create a public link, set `share=True` in `launch()`.\n"
     ]
    },
    {
     "data": {
      "text/html": [
       "<div><iframe src=\"http://127.0.0.1:7885/\" width=\"100%\" height=\"500\" allow=\"autoplay; camera; microphone; clipboard-read; clipboard-write;\" frameborder=\"0\" allowfullscreen></iframe></div>"
      ],
      "text/plain": [
       "<IPython.core.display.HTML object>"
      ]
     },
     "metadata": {},
     "output_type": "display_data"
    },
    {
     "data": {
      "text/plain": []
     },
     "execution_count": 41,
     "metadata": {},
     "output_type": "execute_result"
    }
   ],
   "source": [
    "%reload_ext gradio\n",
    "import gradio as gr\n",
    "\n",
    "\n",
    "# Beispiel LSTM-Modell\n",
    "class LSTMModel:\n",
    "    def __init__(self):\n",
    "        # Code zum Initialisieren des LSTM-Modells\n",
    "        pass\n",
    "\n",
    "    def predict(self, input_data):\n",
    "        # Code zur Vorhersage mit dem LSTM-Modell\n",
    "        # Hier wird ein Dummy-Beispiel verwendet\n",
    "        prediction = [1, 2, 3, 4, 5]  # Dummy-Vorhersage als Liste\n",
    "        return prediction\n",
    "\n",
    "# Funktion zur Vorhersage mit dem LSTM-Modell\n",
    "def make_prediction(landkreis):\n",
    "    # Code zum Verarbeiten der Eingabe und Aufrufen des LSTM-Modells\n",
    "    model = LSTMModel()\n",
    "    prediction = model.predict(landkreis)\n",
    "    return prediction\n",
    "\n",
    "\n",
    "\n",
    "with gr.Blocks() as demo:\n",
    "    gr.Markdown(\n",
    "        \"\"\"\n",
    "        # Vorhersage für ihren Landkreis\n",
    "        ## Es ist ein Hilfsmittel zur Bekämpfung weiterer Epedemien/Pademien und Erkrakungswellen, die in Zukunft verhäuft auftreten werden. \n",
    "        Geben Sie den Namen des Landkreises ein, um die Vorhersage zu erhalten.\n",
    "        \"\"\"\n",
    "    )\n",
    "    # Eingabefeld für den Landkreis\n",
    "    landkreis_textbox = gr.Textbox(label=\"Landkreis\", placeholder=\"Geben Sie hier ein Landkreis ein...\")\n",
    "    # Ausgabefeld als Liste\n",
    "    output_textbox = gr.Textbox(label=\"Vorschläge\")\n",
    "    submit_btn = gr.Button(\"Start\")\n",
    "    submit_btn.click(fn=make_prediction, inputs=landkreis_textbox, outputs=output_textbox)\n",
    "    gr.Markdown(\n",
    "        \"\"\"\n",
    "        ### Link zum Repo: https://github.com/mario-dg/KI-Gruppe-03\n",
    "        \"\"\"\n",
    "    )\n",
    "\n",
    "\n",
    "#demo = gr.Interface(\n",
    "#    fn=make_prediction,\n",
    "#    inputs=landkreis_textbox,\n",
    "#    outputs=output_textbox,\n",
    "#    title=\"Vorhersage für ihren Landkreis\",\n",
    "#    description=\"Es ist ein Hilfsmittel zur Bekämpfung weiterer Epedemien/Pademien und Erkrakungswellen, die in Zukunft verhäuft auftreten werden. Geben Sie den Namen des Landkreises ein, um die Vorhersage zu erhalten.\",\n",
    "#    article=\"Link zum Repo: https://github.com/mario-dg/KI-Gruppe-03\",\n",
    "#    css=\"./style.css\"  \n",
    "#    )\n",
    "\n",
    "demo.launch()   "
   ]
  }
 ],
 "metadata": {
  "kernelspec": {
   "display_name": "base",
   "language": "python",
   "name": "python3"
  },
  "language_info": {
   "codemirror_mode": {
    "name": "ipython",
    "version": 3
   },
   "file_extension": ".py",
   "mimetype": "text/x-python",
   "name": "python",
   "nbconvert_exporter": "python",
   "pygments_lexer": "ipython3",
   "version": "3.9.10"
  },
  "orig_nbformat": 4
 },
 "nbformat": 4,
 "nbformat_minor": 2
}
