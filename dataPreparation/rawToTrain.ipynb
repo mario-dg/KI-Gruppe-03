{
 "cells": [
  {
   "cell_type": "code",
   "execution_count": 130,
   "metadata": {
    "collapsed": true
   },
   "outputs": [],
   "source": [
    "import pandas as pd"
   ]
  },
  {
   "cell_type": "code",
   "execution_count": 131,
   "outputs": [],
   "source": [
    "data = pd.read_csv('../data/raw/DEU.csv', low_memory=False)"
   ],
   "metadata": {
    "collapsed": false
   }
  },
  {
   "cell_type": "code",
   "execution_count": 132,
   "outputs": [
    {
     "data": {
      "text/plain": "         id        date  confirmed  deaths  recovered  tests  vaccines  \\\n0  42079406  2020-01-02        1.0     0.0        1.0    NaN       NaN   \n1  42079406  2020-01-23        2.0     0.0        2.0    NaN       NaN   \n2  42079406  2020-01-27        NaN     NaN        NaN    NaN       NaN   \n3  42079406  2020-01-28        4.0     0.0        4.0    NaN       NaN   \n\n   people_vaccinated  people_fully_vaccinated  hosp  ...  iso_alpha_3  \\\n0                NaN                      NaN   NaN  ...          DEU   \n1                NaN                      NaN   NaN  ...          DEU   \n2                NaN                      NaN   NaN  ...          DEU   \n3                NaN                      NaN   NaN  ...          DEU   \n\n   iso_alpha_2  iso_numeric  iso_currency  key_local  \\\n0           DE          276           EUR        NaN   \n1           DE          276           EUR        NaN   \n2           DE          276           EUR        NaN   \n3           DE          276           EUR        NaN   \n\n           key_google_mobility  key_apple_mobility  key_jhu_csse  key_nuts  \\\n0  ChIJa76xwh5ymkcRW-WRjmtd6HU             Germany            DE       NaN   \n1  ChIJa76xwh5ymkcRW-WRjmtd6HU             Germany            DE       NaN   \n2  ChIJa76xwh5ymkcRW-WRjmtd6HU             Germany            DE       NaN   \n3  ChIJa76xwh5ymkcRW-WRjmtd6HU             Germany            DE       NaN   \n\n   key_gadm  \n0       DEU  \n1       DEU  \n2       DEU  \n3       DEU  \n\n[4 rows x 47 columns]",
      "text/html": "<div>\n<style scoped>\n    .dataframe tbody tr th:only-of-type {\n        vertical-align: middle;\n    }\n\n    .dataframe tbody tr th {\n        vertical-align: top;\n    }\n\n    .dataframe thead th {\n        text-align: right;\n    }\n</style>\n<table border=\"1\" class=\"dataframe\">\n  <thead>\n    <tr style=\"text-align: right;\">\n      <th></th>\n      <th>id</th>\n      <th>date</th>\n      <th>confirmed</th>\n      <th>deaths</th>\n      <th>recovered</th>\n      <th>tests</th>\n      <th>vaccines</th>\n      <th>people_vaccinated</th>\n      <th>people_fully_vaccinated</th>\n      <th>hosp</th>\n      <th>...</th>\n      <th>iso_alpha_3</th>\n      <th>iso_alpha_2</th>\n      <th>iso_numeric</th>\n      <th>iso_currency</th>\n      <th>key_local</th>\n      <th>key_google_mobility</th>\n      <th>key_apple_mobility</th>\n      <th>key_jhu_csse</th>\n      <th>key_nuts</th>\n      <th>key_gadm</th>\n    </tr>\n  </thead>\n  <tbody>\n    <tr>\n      <th>0</th>\n      <td>42079406</td>\n      <td>2020-01-02</td>\n      <td>1.0</td>\n      <td>0.0</td>\n      <td>1.0</td>\n      <td>NaN</td>\n      <td>NaN</td>\n      <td>NaN</td>\n      <td>NaN</td>\n      <td>NaN</td>\n      <td>...</td>\n      <td>DEU</td>\n      <td>DE</td>\n      <td>276</td>\n      <td>EUR</td>\n      <td>NaN</td>\n      <td>ChIJa76xwh5ymkcRW-WRjmtd6HU</td>\n      <td>Germany</td>\n      <td>DE</td>\n      <td>NaN</td>\n      <td>DEU</td>\n    </tr>\n    <tr>\n      <th>1</th>\n      <td>42079406</td>\n      <td>2020-01-23</td>\n      <td>2.0</td>\n      <td>0.0</td>\n      <td>2.0</td>\n      <td>NaN</td>\n      <td>NaN</td>\n      <td>NaN</td>\n      <td>NaN</td>\n      <td>NaN</td>\n      <td>...</td>\n      <td>DEU</td>\n      <td>DE</td>\n      <td>276</td>\n      <td>EUR</td>\n      <td>NaN</td>\n      <td>ChIJa76xwh5ymkcRW-WRjmtd6HU</td>\n      <td>Germany</td>\n      <td>DE</td>\n      <td>NaN</td>\n      <td>DEU</td>\n    </tr>\n    <tr>\n      <th>2</th>\n      <td>42079406</td>\n      <td>2020-01-27</td>\n      <td>NaN</td>\n      <td>NaN</td>\n      <td>NaN</td>\n      <td>NaN</td>\n      <td>NaN</td>\n      <td>NaN</td>\n      <td>NaN</td>\n      <td>NaN</td>\n      <td>...</td>\n      <td>DEU</td>\n      <td>DE</td>\n      <td>276</td>\n      <td>EUR</td>\n      <td>NaN</td>\n      <td>ChIJa76xwh5ymkcRW-WRjmtd6HU</td>\n      <td>Germany</td>\n      <td>DE</td>\n      <td>NaN</td>\n      <td>DEU</td>\n    </tr>\n    <tr>\n      <th>3</th>\n      <td>42079406</td>\n      <td>2020-01-28</td>\n      <td>4.0</td>\n      <td>0.0</td>\n      <td>4.0</td>\n      <td>NaN</td>\n      <td>NaN</td>\n      <td>NaN</td>\n      <td>NaN</td>\n      <td>NaN</td>\n      <td>...</td>\n      <td>DEU</td>\n      <td>DE</td>\n      <td>276</td>\n      <td>EUR</td>\n      <td>NaN</td>\n      <td>ChIJa76xwh5ymkcRW-WRjmtd6HU</td>\n      <td>Germany</td>\n      <td>DE</td>\n      <td>NaN</td>\n      <td>DEU</td>\n    </tr>\n  </tbody>\n</table>\n<p>4 rows × 47 columns</p>\n</div>"
     },
     "execution_count": 132,
     "metadata": {},
     "output_type": "execute_result"
    }
   ],
   "source": [
    "data.head(4)"
   ],
   "metadata": {
    "collapsed": false
   }
  },
  {
   "cell_type": "code",
   "execution_count": 133,
   "outputs": [],
   "source": [
    "data = data.drop('id', axis=1)\n",
    "data = data.drop('tests', axis=1)\n",
    "data = data.drop('government_response_index', axis=1)\n",
    "data = data.drop('stringency_index', axis=1)\n",
    "data = data.drop('containment_health_index', axis=1)\n",
    "data = data.drop('economic_support_index', axis=1)\n",
    "data = data.drop('administrative_area_level', axis=1)\n",
    "data = data.drop('administrative_area_level_1', axis=1)\n",
    "data = data.drop('administrative_area_level_2', axis=1)\n",
    "data = data.drop('hosp', axis=1)\n",
    "data = data.drop('icu', axis=1)\n",
    "data = data.drop('vent', axis=1)\n",
    "data = data.drop('iso_alpha_3', axis=1)\n",
    "data = data.drop('iso_alpha_2', axis=1)\n",
    "data = data.drop('iso_currency', axis=1)\n",
    "data = data.drop('iso_numeric', axis=1)\n",
    "data = data.drop('latitude', axis=1)\n",
    "data = data.drop('longitude', axis=1)\n",
    "data = data.drop('key_local', axis=1)\n",
    "data = data.drop('key_google_mobility', axis=1)\n",
    "data = data.drop('key_apple_mobility', axis=1)\n",
    "data = data.drop('key_jhu_csse', axis=1)\n",
    "data = data.drop('key_nuts', axis=1)\n",
    "data = data.drop('key_gadm', axis=1)\n",
    "data = data.drop(data[data['population'] == 82905782].index)\n",
    "data = data.dropna(subset=['administrative_area_level_3'])\n",
    "data = data.dropna()"
   ],
   "metadata": {
    "collapsed": false
   }
  },
  {
   "cell_type": "code",
   "execution_count": 134,
   "outputs": [],
   "source": [
    "\n",
    "label_data = pd.concat([data.iloc[:, 0:3], data.iloc[:, 21]], axis=1)\n",
    "\n",
    "\n",
    "# Zweites DataFrame mit den Spalten 0 und 4 bis 10\n",
    "train_data = pd.concat([data.iloc[:, 0], data.iloc[:, 3:23]], axis=1)"
   ],
   "metadata": {
    "collapsed": false
   }
  },
  {
   "cell_type": "code",
   "execution_count": 135,
   "outputs": [
    {
     "data": {
      "text/plain": "             date  confirmed  deaths administrative_area_level_3\n18814  2021-01-22     3092.0   124.0             LK Freudenstadt\n18815  2021-01-23     3104.0   124.0             LK Freudenstadt\n18816  2021-01-24     3106.0   124.0             LK Freudenstadt\n18817  2021-01-25     3109.0   124.0             LK Freudenstadt\n18818  2021-01-26     3135.0   128.0             LK Freudenstadt",
      "text/html": "<div>\n<style scoped>\n    .dataframe tbody tr th:only-of-type {\n        vertical-align: middle;\n    }\n\n    .dataframe tbody tr th {\n        vertical-align: top;\n    }\n\n    .dataframe thead th {\n        text-align: right;\n    }\n</style>\n<table border=\"1\" class=\"dataframe\">\n  <thead>\n    <tr style=\"text-align: right;\">\n      <th></th>\n      <th>date</th>\n      <th>confirmed</th>\n      <th>deaths</th>\n      <th>administrative_area_level_3</th>\n    </tr>\n  </thead>\n  <tbody>\n    <tr>\n      <th>18814</th>\n      <td>2021-01-22</td>\n      <td>3092.0</td>\n      <td>124.0</td>\n      <td>LK Freudenstadt</td>\n    </tr>\n    <tr>\n      <th>18815</th>\n      <td>2021-01-23</td>\n      <td>3104.0</td>\n      <td>124.0</td>\n      <td>LK Freudenstadt</td>\n    </tr>\n    <tr>\n      <th>18816</th>\n      <td>2021-01-24</td>\n      <td>3106.0</td>\n      <td>124.0</td>\n      <td>LK Freudenstadt</td>\n    </tr>\n    <tr>\n      <th>18817</th>\n      <td>2021-01-25</td>\n      <td>3109.0</td>\n      <td>124.0</td>\n      <td>LK Freudenstadt</td>\n    </tr>\n    <tr>\n      <th>18818</th>\n      <td>2021-01-26</td>\n      <td>3135.0</td>\n      <td>128.0</td>\n      <td>LK Freudenstadt</td>\n    </tr>\n  </tbody>\n</table>\n</div>"
     },
     "execution_count": 135,
     "metadata": {},
     "output_type": "execute_result"
    }
   ],
   "source": [
    "label_data.head(5)"
   ],
   "metadata": {
    "collapsed": false
   }
  },
  {
   "cell_type": "code",
   "execution_count": 136,
   "outputs": [
    {
     "data": {
      "text/plain": "             date  recovered  vaccines  people_vaccinated  \\\n18814  2021-01-22     2968.0     115.0              115.0   \n18815  2021-01-23     2980.0     257.0              257.0   \n18816  2021-01-24     2982.0     358.0              358.0   \n18817  2021-01-25     2985.0     408.0              408.0   \n18818  2021-01-26     3007.0     432.0              432.0   \n\n       people_fully_vaccinated  school_closing  workplace_closing  \\\n18814                      0.0             3.0                3.0   \n18815                      0.0             3.0                3.0   \n18816                      0.0             3.0                3.0   \n18817                      0.0             3.0                3.0   \n18818                      0.0             3.0                3.0   \n\n       cancel_events  gatherings_restrictions  transport_closing  ...  \\\n18814            2.0                      4.0                1.0  ...   \n18815            2.0                      4.0                1.0  ...   \n18816            2.0                      4.0                1.0  ...   \n18817            2.0                      4.0                1.0  ...   \n18818            2.0                      4.0                1.0  ...   \n\n       internal_movement_restrictions  international_movement_restrictions  \\\n18814                            -2.0                                  3.0   \n18815                            -2.0                                  3.0   \n18816                            -2.0                                  3.0   \n18817                            -2.0                                  3.0   \n18818                            -2.0                                  3.0   \n\n       information_campaigns  testing_policy  contact_tracing  \\\n18814                    2.0             1.0              1.0   \n18815                    2.0             1.0              1.0   \n18816                    2.0             1.0              1.0   \n18817                    2.0             1.0              1.0   \n18818                    2.0             1.0              1.0   \n\n       facial_coverings  vaccination_policy  elderly_people_protection  \\\n18814               2.0                 2.0                        2.0   \n18815               2.0                 2.0                        2.0   \n18816               2.0                 2.0                        2.0   \n18817               2.0                 2.0                        2.0   \n18818               2.0                 2.0                        2.0   \n\n       administrative_area_level_3 population  \n18814              LK Freudenstadt     117935  \n18815              LK Freudenstadt     117935  \n18816              LK Freudenstadt     117935  \n18817              LK Freudenstadt     117935  \n18818              LK Freudenstadt     117935  \n\n[5 rows x 21 columns]",
      "text/html": "<div>\n<style scoped>\n    .dataframe tbody tr th:only-of-type {\n        vertical-align: middle;\n    }\n\n    .dataframe tbody tr th {\n        vertical-align: top;\n    }\n\n    .dataframe thead th {\n        text-align: right;\n    }\n</style>\n<table border=\"1\" class=\"dataframe\">\n  <thead>\n    <tr style=\"text-align: right;\">\n      <th></th>\n      <th>date</th>\n      <th>recovered</th>\n      <th>vaccines</th>\n      <th>people_vaccinated</th>\n      <th>people_fully_vaccinated</th>\n      <th>school_closing</th>\n      <th>workplace_closing</th>\n      <th>cancel_events</th>\n      <th>gatherings_restrictions</th>\n      <th>transport_closing</th>\n      <th>...</th>\n      <th>internal_movement_restrictions</th>\n      <th>international_movement_restrictions</th>\n      <th>information_campaigns</th>\n      <th>testing_policy</th>\n      <th>contact_tracing</th>\n      <th>facial_coverings</th>\n      <th>vaccination_policy</th>\n      <th>elderly_people_protection</th>\n      <th>administrative_area_level_3</th>\n      <th>population</th>\n    </tr>\n  </thead>\n  <tbody>\n    <tr>\n      <th>18814</th>\n      <td>2021-01-22</td>\n      <td>2968.0</td>\n      <td>115.0</td>\n      <td>115.0</td>\n      <td>0.0</td>\n      <td>3.0</td>\n      <td>3.0</td>\n      <td>2.0</td>\n      <td>4.0</td>\n      <td>1.0</td>\n      <td>...</td>\n      <td>-2.0</td>\n      <td>3.0</td>\n      <td>2.0</td>\n      <td>1.0</td>\n      <td>1.0</td>\n      <td>2.0</td>\n      <td>2.0</td>\n      <td>2.0</td>\n      <td>LK Freudenstadt</td>\n      <td>117935</td>\n    </tr>\n    <tr>\n      <th>18815</th>\n      <td>2021-01-23</td>\n      <td>2980.0</td>\n      <td>257.0</td>\n      <td>257.0</td>\n      <td>0.0</td>\n      <td>3.0</td>\n      <td>3.0</td>\n      <td>2.0</td>\n      <td>4.0</td>\n      <td>1.0</td>\n      <td>...</td>\n      <td>-2.0</td>\n      <td>3.0</td>\n      <td>2.0</td>\n      <td>1.0</td>\n      <td>1.0</td>\n      <td>2.0</td>\n      <td>2.0</td>\n      <td>2.0</td>\n      <td>LK Freudenstadt</td>\n      <td>117935</td>\n    </tr>\n    <tr>\n      <th>18816</th>\n      <td>2021-01-24</td>\n      <td>2982.0</td>\n      <td>358.0</td>\n      <td>358.0</td>\n      <td>0.0</td>\n      <td>3.0</td>\n      <td>3.0</td>\n      <td>2.0</td>\n      <td>4.0</td>\n      <td>1.0</td>\n      <td>...</td>\n      <td>-2.0</td>\n      <td>3.0</td>\n      <td>2.0</td>\n      <td>1.0</td>\n      <td>1.0</td>\n      <td>2.0</td>\n      <td>2.0</td>\n      <td>2.0</td>\n      <td>LK Freudenstadt</td>\n      <td>117935</td>\n    </tr>\n    <tr>\n      <th>18817</th>\n      <td>2021-01-25</td>\n      <td>2985.0</td>\n      <td>408.0</td>\n      <td>408.0</td>\n      <td>0.0</td>\n      <td>3.0</td>\n      <td>3.0</td>\n      <td>2.0</td>\n      <td>4.0</td>\n      <td>1.0</td>\n      <td>...</td>\n      <td>-2.0</td>\n      <td>3.0</td>\n      <td>2.0</td>\n      <td>1.0</td>\n      <td>1.0</td>\n      <td>2.0</td>\n      <td>2.0</td>\n      <td>2.0</td>\n      <td>LK Freudenstadt</td>\n      <td>117935</td>\n    </tr>\n    <tr>\n      <th>18818</th>\n      <td>2021-01-26</td>\n      <td>3007.0</td>\n      <td>432.0</td>\n      <td>432.0</td>\n      <td>0.0</td>\n      <td>3.0</td>\n      <td>3.0</td>\n      <td>2.0</td>\n      <td>4.0</td>\n      <td>1.0</td>\n      <td>...</td>\n      <td>-2.0</td>\n      <td>3.0</td>\n      <td>2.0</td>\n      <td>1.0</td>\n      <td>1.0</td>\n      <td>2.0</td>\n      <td>2.0</td>\n      <td>2.0</td>\n      <td>LK Freudenstadt</td>\n      <td>117935</td>\n    </tr>\n  </tbody>\n</table>\n<p>5 rows × 21 columns</p>\n</div>"
     },
     "execution_count": 136,
     "metadata": {},
     "output_type": "execute_result"
    }
   ],
   "source": [
    "train_data.head(5)"
   ],
   "metadata": {
    "collapsed": false
   }
  },
  {
   "cell_type": "code",
   "execution_count": 138,
   "outputs": [],
   "source": [
    "label_data.to_csv('../data/clean/label.csv', index=False)\n",
    "train_data.to_csv('../data/clean/train.csv', index=False)"
   ],
   "metadata": {
    "collapsed": false
   }
  },
  {
   "cell_type": "code",
   "execution_count": null,
   "outputs": [],
   "source": [],
   "metadata": {
    "collapsed": false
   }
  }
 ],
 "metadata": {
  "kernelspec": {
   "display_name": "Python 3",
   "language": "python",
   "name": "python3"
  },
  "language_info": {
   "codemirror_mode": {
    "name": "ipython",
    "version": 2
   },
   "file_extension": ".py",
   "mimetype": "text/x-python",
   "name": "python",
   "nbconvert_exporter": "python",
   "pygments_lexer": "ipython2",
   "version": "2.7.6"
  }
 },
 "nbformat": 4,
 "nbformat_minor": 0
}
