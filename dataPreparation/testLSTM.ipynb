{
 "cells": [
  {
   "cell_type": "code",
   "execution_count": 1,
   "metadata": {
    "collapsed": true
   },
   "outputs": [],
   "source": [
    "import pandas as pd\n",
    "import numpy as np\n",
    "from sklearn.preprocessing import MinMaxScaler\n",
    "from tensorflow.keras.models import Sequential\n",
    "from tensorflow.keras.layers import LSTM, Dense"
   ]
  },
  {
   "cell_type": "code",
   "execution_count": 22,
   "outputs": [],
   "source": [
    "df_weekly = pd.read_csv('../data/clean/df_weekly.csv')"
   ],
   "metadata": {
    "collapsed": false
   }
  },
  {
   "cell_type": "code",
   "execution_count": 6,
   "outputs": [
    {
     "name": "stdout",
     "output_type": "stream",
     "text": [
      "Epoch 1/3\n",
      "1020/1020 [==============================] - 36s 36ms/step - loss: 0.0016 - val_loss: 0.0055\n",
      "Epoch 2/3\n",
      "1020/1020 [==============================] - 36s 35ms/step - loss: 0.0010 - val_loss: 0.0041\n",
      "Epoch 3/3\n",
      "1020/1020 [==============================] - 36s 35ms/step - loss: 9.2444e-04 - val_loss: 0.0044\n",
      "255/255 [==============================] - 4s 16ms/step - loss: 0.0044\n",
      "Test Loss: 0.004425948951393366\n"
     ]
    }
   ],
   "source": [
    "# Daten normalisieren\n",
    "scaler = MinMaxScaler(feature_range=(0, 1))\n",
    "scaled_data = scaler.fit_transform(df_weekly[['confirmed', 'deaths' ,\"recovered\"\n",
    ",\"vaccines\",\"people_vaccinated\",\"people_fully_vaccinated\"\n",
    ",\"school_closing\",\"workplace_closing\",\"cancel_events\"\n",
    ",\"gatherings_restrictions\",\"transport_closing\"\n",
    ",\"stay_home_restrictions\",\"internal_movement_restrictions\"\n",
    ",\"internal_movement_restrictions\",\"information_campaigns\",\"testing_policy\"\n",
    ",\"contact_tracing\",\"facial_coverings\"\n",
    ",\"vaccination_policy\",\"elderly_people_protection\",\"population\"]])\n",
    "new_data = np.array([[39919.42857142857, 1132.2857142857142, 38787.142857142855, 8832.0, 8832.0, 0.0, 3.0, 3.0, 2.0, 4.0, 1.0, 1.4285714285714286, -1.5714285714285714,\n",
    "                      3.0, 2.0, 1.0, 1.1428571428571428, 2.0, 2.0, 2.0, 1841179.0]])  # Beispielhafte Eingangsdaten (Features)\n",
    "# Vorbereitung der Eingangsdaten (Features) und der Zielvariablen\n",
    "features = scaled_data[:, :-1]\n",
    "target = scaled_data[:, -1]\n",
    "\n",
    "\n",
    "train_size = int(len(df_weekly) * 0.8)\n",
    "test_size = len(df_weekly) - train_size\n",
    "train_features, test_features = features[:train_size], features[train_size:]\n",
    "train_target, test_target = target[:train_size], target[train_size:]\n",
    "\n",
    "# feature -> target\n",
    "# t1 -> t2\n",
    "def create_lstm_dataset(features, target, time_steps):\n",
    "    X, y = [], []\n",
    "    for i in range(len(features) - time_steps):\n",
    "        X.append(features[i:(i+time_steps)])\n",
    "        y.append(target[i+time_steps])\n",
    "    return np.array(X), np.array(y)\n",
    "\n",
    "time_steps = 5 # Das problem mit der input Größe >.<. Aktuell werden alle 5 daten aus den train data aneinandergereiht. Hier muss noch eine lösung her\n",
    "train_features_lstm, train_target_lstm = create_lstm_dataset(train_features, train_target, time_steps)\n",
    "test_features_lstm, test_target_lstm = create_lstm_dataset(test_features, test_target, time_steps)\n",
    "\n",
    "\n",
    "model = Sequential()\n",
    "model.add(LSTM(units=64, input_shape=(time_steps, train_features_lstm.shape[2])))\n",
    "model.add(Dense(units=1))\n",
    "model.compile(optimizer='adam', loss='mse', run_eagerly=True)\n",
    "\n",
    "\n",
    "history = model.fit(train_features_lstm, train_target_lstm, epochs=3, batch_size=32, validation_data=(test_features_lstm, test_target_lstm))\n",
    "\n",
    "\n",
    "loss = model.evaluate(test_features_lstm, test_target_lstm)\n",
    "\n",
    "print('Test Loss:', loss)\n"
   ],
   "metadata": {
    "collapsed": false
   }
  }
 ],
 "metadata": {
  "kernelspec": {
   "display_name": "Python 3",
   "language": "python",
   "name": "python3"
  },
  "language_info": {
   "codemirror_mode": {
    "name": "ipython",
    "version": 2
   },
   "file_extension": ".py",
   "mimetype": "text/x-python",
   "name": "python",
   "nbconvert_exporter": "python",
   "pygments_lexer": "ipython2",
   "version": "2.7.6"
  }
 },
 "nbformat": 4,
 "nbformat_minor": 0
}
